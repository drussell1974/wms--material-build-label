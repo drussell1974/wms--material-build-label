{
  "cells": [
    {
      "cell_type": "code",
      "execution_count": null,
      "metadata": {
        "colab": {
          "base_uri": "https://localhost:8080/"
        },
        "id": "7PqA8GtS9OD9",
        "outputId": "24796024-9655-4219-cb76-eb9b0db23a84"
      },
      "outputs": [
        {
          "ename": "",
          "evalue": "",
          "output_type": "error",
          "traceback": [
            "\u001b[1;31mRunning cells with 'Python 3.10.12' requires the ipykernel package.\n",
            "\u001b[1;31mRun the following command to install 'ipykernel' into the Python environment. \n",
            "\u001b[1;31mCommand: '/bin/python3 -m pip install ipykernel -U --user --force-reinstall'"
          ]
        }
      ],
      "source": [
        "!pip install PyPDF2 pandas openpyxl"
      ]
    },
    {
      "cell_type": "code",
      "execution_count": null,
      "metadata": {
        "colab": {
          "base_uri": "https://localhost:8080/"
        },
        "id": "LEFl9cfFmjdV",
        "outputId": "f6549054-8c51-44d7-df7d-5dd01d4d7683"
      },
      "outputs": [
        {
          "name": "stdout",
          "output_type": "stream",
          "text": [
            "Collecting pymupdf\n",
            "  Downloading PyMuPDF-1.24.2-cp310-none-manylinux2014_x86_64.whl (3.5 MB)\n",
            "\u001b[2K     \u001b[90m━━━━━━━━━━━━━━━━━━━━━━━━━━━━━━━━━━━━━━━━\u001b[0m \u001b[32m3.5/3.5 MB\u001b[0m \u001b[31m10.0 MB/s\u001b[0m eta \u001b[36m0:00:00\u001b[0m\n",
            "\u001b[?25hCollecting PyMuPDFb==1.24.1 (from pymupdf)\n",
            "  Downloading PyMuPDFb-1.24.1-py3-none-manylinux2014_x86_64.manylinux_2_17_x86_64.whl (30.8 MB)\n",
            "\u001b[2K     \u001b[90m━━━━━━━━━━━━━━━━━━━━━━━━━━━━━━━━━━━━━━━━\u001b[0m \u001b[32m30.8/30.8 MB\u001b[0m \u001b[31m25.9 MB/s\u001b[0m eta \u001b[36m0:00:00\u001b[0m\n",
            "\u001b[?25hInstalling collected packages: PyMuPDFb, pymupdf\n",
            "Successfully installed PyMuPDFb-1.24.1 pymupdf-1.24.2\n"
          ]
        }
      ],
      "source": [
        "pip install --upgrade pymupdf"
      ]
    },
    {
      "cell_type": "code",
      "execution_count": null,
      "metadata": {
        "colab": {
          "base_uri": "https://localhost:8080/"
        },
        "id": "l4mPFMSVDWcm",
        "outputId": "ab612032-5247-46dc-edd0-dcd91121c18c"
      },
      "outputs": [
        {
          "name": "stdout",
          "output_type": "stream",
          "text": [
            "Requirement already satisfied: pymupdf in /usr/local/lib/python3.10/dist-packages (1.24.2)\n",
            "Requirement already satisfied: pandas in /usr/local/lib/python3.10/dist-packages (2.0.3)\n",
            "Collecting reportlab\n",
            "  Downloading reportlab-4.2.0-py3-none-any.whl (1.9 MB)\n",
            "\u001b[2K     \u001b[90m━━━━━━━━━━━━━━━━━━━━━━━━━━━━━━━━━━━━━━━━\u001b[0m \u001b[32m1.9/1.9 MB\u001b[0m \u001b[31m8.7 MB/s\u001b[0m eta \u001b[36m0:00:00\u001b[0m\n",
            "\u001b[?25hRequirement already satisfied: PyMuPDFb==1.24.1 in /usr/local/lib/python3.10/dist-packages (from pymupdf) (1.24.1)\n",
            "Requirement already satisfied: python-dateutil>=2.8.2 in /usr/local/lib/python3.10/dist-packages (from pandas) (2.8.2)\n",
            "Requirement already satisfied: pytz>=2020.1 in /usr/local/lib/python3.10/dist-packages (from pandas) (2023.4)\n",
            "Requirement already satisfied: tzdata>=2022.1 in /usr/local/lib/python3.10/dist-packages (from pandas) (2024.1)\n",
            "Requirement already satisfied: numpy>=1.21.0 in /usr/local/lib/python3.10/dist-packages (from pandas) (1.25.2)\n",
            "Requirement already satisfied: pillow>=9.0.0 in /usr/local/lib/python3.10/dist-packages (from reportlab) (9.4.0)\n",
            "Requirement already satisfied: chardet in /usr/local/lib/python3.10/dist-packages (from reportlab) (5.2.0)\n",
            "Requirement already satisfied: six>=1.5 in /usr/local/lib/python3.10/dist-packages (from python-dateutil>=2.8.2->pandas) (1.16.0)\n",
            "Installing collected packages: reportlab\n",
            "Successfully installed reportlab-4.2.0\n"
          ]
        }
      ],
      "source": [
        "!pip install pymupdf pandas reportlab"
      ]
    },
    {
      "cell_type": "code",
      "execution_count": null,
      "metadata": {
        "colab": {
          "base_uri": "https://localhost:8080/"
        },
        "id": "ynp_un5h9gXQ",
        "outputId": "84d7b0ef-d51d-406c-eedb-c3be93953414"
      },
      "outputs": [
        {
          "name": "stdout",
          "output_type": "stream",
          "text": [
            "Drive already mounted at /content/drive; to attempt to forcibly remount, call drive.mount(\"/content/drive\", force_remount=True).\n"
          ]
        }
      ],
      "source": [
        "from google.colab import drive\n",
        "drive.mount('/content/drive')"
      ]
    },
    {
      "cell_type": "code",
      "execution_count": 22,
      "metadata": {
        "colab": {
          "base_uri": "https://localhost:8080/"
        },
        "id": "Gae677M9SJGI",
        "outputId": "fedef2be-1379-41aa-a206-408be4ccd074"
      },
      "outputs": [
        {
          "name": "stdout",
          "output_type": "stream",
          "text": [
            "Modified PDF with adjusted text properties has been saved.\n"
          ]
        }
      ],
      "source": [
        "import fitz  # PyMuPDF\n",
        "import pandas as pd\n",
        "from reportlab.lib.colors import black\n",
        "from reportlab.pdfgen import canvas\n",
        "import io\n",
        "def create_info_snippet(build_info, x, y):\n",
        "    packet = io.BytesIO()\n",
        "    can = canvas.Canvas(packet)\n",
        "    text = can.beginText(x, y)\n",
        "    text.setFont(\"Helvetica-Bold\", 38)  # Set font size to 38\n",
        "    text.setFillColor(black)\n",
        "    for line in build_info.split(';'):\n",
        "        text.textLine(line.strip())\n",
        "    can.drawText(text)\n",
        "    can.save()\n",
        "    packet.seek(0)\n",
        "    return fitz.open(\"pdf\", packet.read())\n",
        "def extract_sku(text):\n",
        "    lines = text.split('\\n')\n",
        "    for i, line in enumerate(lines):\n",
        "        if 'SKU Code:' in line and i+1 < len(lines):\n",
        "            sku = lines[i+1].strip()\n",
        "            return sku.split('-')[0] if '-' in sku else sku\n",
        "    return None\n",
        "build_data = pd.read_excel('/content/drive/My Drive/Aspire/Aspire Production/Mattress Builds/Build Example.xlsx')\n",
        "build_data['SKU'] = build_data['SKU'].fillna('')\n",
        "doc = fitz.open('/content/drive/My Drive/Aspire/Aspire Production/Mattress Builds/Example job card.pdf')\n",
        "for page_num, page in enumerate(doc):\n",
        "    text = page.get_text(\"text\")\n",
        "    sku_prefix = extract_sku(text)\n",
        "    if sku_prefix and build_data['SKU'].str.contains(sku_prefix).any():\n",
        "        build_info = build_data[build_data['SKU'].str.startswith(sku_prefix)]['Build'].iloc[0]\n",
        "        info_pdf = create_info_snippet(build_info, -5, 500)  # Start higher up on the page\n",
        "        # Enlarge the rectangle to accommodate the width of the text\n",
        "        rect = fitz.Rect(-5, 270, 278, 432)  # Adjusted to be wider\n",
        "        page.show_pdf_page(rect, info_pdf, pno=0)\n",
        "output_pdf_path = '/content/drive/My Drive/Aspire/Aspire Production/Mattress Builds/Modified Example job card.pdf'\n",
        "doc.save(output_pdf_path)\n",
        "doc.close()\n",
        "print(\"Modified PDF with adjusted text properties has been saved.\")"
      ]
    }
  ],
  "metadata": {
    "colab": {
      "provenance": []
    },
    "kernelspec": {
      "display_name": "Python 3",
      "name": "python3"
    },
    "language_info": {
      "name": "python",
      "version": "3.10.12"
    }
  },
  "nbformat": 4,
  "nbformat_minor": 0
}
